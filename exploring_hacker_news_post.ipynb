{
 "cells": [
  {
   "cell_type": "markdown",
   "metadata": {},
   "source": [
    "### Introduction:  \n",
    "  \n",
    "In this project, we will compare two types of posts from [Hacker News](https://news.ycombinator.com/), site where technology related stories are voted and commented upon.  \n",
    "The two types of posts are either Ask HN or Show HN.  \n",
    "  \n",
    "Users submit *Ask HN* posts to ask the Hacker News community a question. Likewise, user submit *Show HN* posts to show the Hacker News community a project, product, or just generally something interesting.  \n",
    "  \n",
    "We will specifically compare these two types of posts to determine the following:\n",
    "* Do *Ask HN* or *Show HN* receives more comments on average?\n",
    "* Do posts created at a certain time receive more comments on average?"
   ]
  },
  {
   "cell_type": "code",
   "execution_count": 1,
   "metadata": {},
   "outputs": [],
   "source": [
    "import re\n",
    "import csv\n",
    "import pprint as pp\n",
    "import datetime as dt"
   ]
  },
  {
   "cell_type": "markdown",
   "metadata": {},
   "source": [
    "#### Reading a CSV file and separating data from header:"
   ]
  },
  {
   "cell_type": "code",
   "execution_count": 2,
   "metadata": {},
   "outputs": [],
   "source": [
    "def read_csv(filename):\n",
    "    with open(filename, encoding='utf8') as fd:\n",
    "        all_data = list(csv.reader(fd))\n",
    "        header = all_data[0]\n",
    "        data = all_data[1:]\n",
    "    \n",
    "    return header, data"
   ]
  },
  {
   "cell_type": "code",
   "execution_count": 3,
   "metadata": {},
   "outputs": [
    {
     "name": "stdout",
     "output_type": "stream",
     "text": [
      "Hacker News posts:\n",
      "['12579008', 'You have two days to comment if you want stem cells to be classified as your own', 'http://www.regulations.gov/document?D=FDA-2015-D-3719-0018', '1', '0', 'altstar', '9/26/2016 3:26']\n",
      "['12579005', 'SQLAR  the SQLite Archiver', 'https://www.sqlite.org/sqlar/doc/trunk/README.md', '1', '0', 'blacksqr', '9/26/2016 3:24']\n",
      "['12578997', 'What if we just printed a flatscreen television on the side of our boxes?', 'https://medium.com/vanmoof/our-secrets-out-f21c1f03fdc8#.ietxmez43', '1', '0', 'pavel_lishin', '9/26/2016 3:19']\n",
      "['12578989', 'algorithmic music', 'http://cacm.acm.org/magazines/2011/7/109891-algorithmic-composition/fulltext', '1', '0', 'poindontcare', '9/26/2016 3:16']\n",
      "['12578979', 'How the Data Vault Enables the Next-Gen Data Warehouse and Data Lake', 'https://www.talend.com/blog/2016/05/12/talend-and-Â\\x93the-data-vaultÂ\\x94', '1', '0', 'markgainor1', '9/26/2016 3:14']\n"
     ]
    }
   ],
   "source": [
    "header, hacker_data = read_csv('hacker_news.csv')\n",
    "print('Hacker News posts:')\n",
    "for row in hacker_data[:5]:\n",
    "    print(row)"
   ]
  },
  {
   "cell_type": "markdown",
   "metadata": {},
   "source": [
    "#### Extracting *Ask HN* and *Show HN* posts:  \n",
    "We will identify and separate those posts which begins with either *Ask HN* or *Show HN* into two different lists. Separating the data makes it easier to analyze the dataset later."
   ]
  },
  {
   "cell_type": "code",
   "execution_count": 4,
   "metadata": {},
   "outputs": [],
   "source": [
    "def get_ask_show_posts(dataset):\n",
    "    ask_posts = list()\n",
    "    show_posts = list()\n",
    "    other_posts = list()\n",
    "    \n",
    "    for row in dataset:\n",
    "        title = row[1]\n",
    "        if re.search('^Ask HN', title, re.I): # check if title begins with 'Ask HN'\n",
    "            ask_posts.append(row)\n",
    "        elif re.search('^Show HN', title, re.I): # check if title begins with 'Show HN'\n",
    "            show_posts.append(row)\n",
    "        else:\n",
    "            other_posts.append(row)\n",
    "    \n",
    "    return ask_posts, show_posts"
   ]
  },
  {
   "cell_type": "code",
   "execution_count": 5,
   "metadata": {},
   "outputs": [
    {
     "name": "stdout",
     "output_type": "stream",
     "text": [
      "Ask posts:\n",
      "['12578908', 'Ask HN: What TLD do you use for local development?', '', '4', '7', 'Sevrene', '9/26/2016 2:53']\n",
      "['12578522', 'Ask HN: How do you pass on your work when you die?', '', '6', '3', 'PascLeRasc', '9/26/2016 1:17']\n",
      "['12577908', 'Ask HN: How a DNS problem can be limited to a geographic region?', '', '1', '0', 'kuon', '9/25/2016 22:57']\n",
      "['12577870', 'Ask HN: Why join a fund when you can be an angel?', '', '1', '3', 'anthony_james', '9/25/2016 22:48']\n",
      "['12577647', 'Ask HN: Someone uses stock trading as passive income?', '', '5', '2', '00taffe', '9/25/2016 21:50']\n",
      "\n",
      "Show posts:\n",
      "['12578335', 'Show HN: Finding puns computationally', 'http://puns.samueltaylor.org/', '2', '0', 'saamm', '9/26/2016 0:36']\n",
      "['12578182', 'Show HN: A simple library for complicated animations', 'https://christinecha.github.io/choreographer-js/', '1', '0', 'christinecha', '9/26/2016 0:01']\n",
      "['12578098', 'Show HN: WebGL visualization of DNA sequences', 'http://grondilu.github.io/dna.html', '1', '0', 'grondilu', '9/25/2016 23:44']\n",
      "['12577991', 'Show HN: Pomodoro-centric, heirarchical project management with ES6 modules', 'https://github.com/jakebian/zeal', '2', '0', 'dbranes', '9/25/2016 23:17']\n",
      "['12577142', 'Show HN: Jumble  Essays on the go #PaulInYourPocket', 'https://itunes.apple.com/us/app/jumble-find-startup-essay/id1150939197?ls=1&mt=8', '1', '1', 'ryderj', '9/25/2016 20:06']\n"
     ]
    }
   ],
   "source": [
    "ask_posts, show_posts = get_ask_show_posts(hacker_data)\n",
    "print('Ask posts:')\n",
    "for row in ask_posts[:5]:\n",
    "    print(row)\n",
    "\n",
    "print()\n",
    "print('Show posts:')\n",
    "for row in show_posts[:5]:\n",
    "    print(row)"
   ]
  },
  {
   "cell_type": "markdown",
   "metadata": {},
   "source": [
    "#### Calculating the average number of comments for *Ask HN* and *Show HN* posts:  \n",
    "Now that we have separated *Ask HN* and *Show HN* posts into separate lists, we will calculate the average number of comments each type of post receives."
   ]
  },
  {
   "cell_type": "code",
   "execution_count": 6,
   "metadata": {},
   "outputs": [],
   "source": [
    "def get_average_comments(dataset, index):\n",
    "    total_comments = 0\n",
    "    \n",
    "    for row in dataset:\n",
    "        total_comments += int(row[index])\n",
    "    \n",
    "    return total_comments/len(dataset)"
   ]
  },
  {
   "cell_type": "code",
   "execution_count": 7,
   "metadata": {},
   "outputs": [
    {
     "name": "stdout",
     "output_type": "stream",
     "text": [
      "Average ask comments: 10.39\n",
      "Average show comments: 4.89\n"
     ]
    }
   ],
   "source": [
    "avg_ask_comments = get_average_comments(ask_posts, 4) # num_comments is column 5\n",
    "print('Average ask comments: {:.2f}'.format(avg_ask_comments))\n",
    "avg_show_comments = get_average_comments(show_posts, 4) # num_comments is column 5\n",
    "print('Average show comments: {:.2f}'.format(avg_show_comments))"
   ]
  },
  {
   "cell_type": "markdown",
   "metadata": {},
   "source": [
    "On an average, *Ask* posts receive approximately 10 comments, whereas *Show* posts receive only 4 comments. Since *Ask* posts are more likely to receive more comments, we will focus on analyzing on these posts.  \n",
    "  \n",
    "#### Finding the amount of *Ask* posts and comments by hour created:  \n",
    "We will determine if we can maximize the amount of comments an *Ask* post receives by creating it at a certain time.  \n",
    "First, we will find the amount of *Ask* posts created during each hour of the day, along with the number of comments those posts received. Then we will calculate the average amount of comments *Ask* posts created at each hour of the day receive."
   ]
  },
  {
   "cell_type": "code",
   "execution_count": 8,
   "metadata": {},
   "outputs": [],
   "source": [
    "def get_comments_by_hour(dataset, time_index, comment_index):\n",
    "    result_list = list()\n",
    "    \n",
    "    # get post created time and total number of comments\n",
    "    for row in dataset:\n",
    "        result_list.append([row[time_index], int(row[comment_index])])\n",
    "    \n",
    "    counts_by_hour = dict()\n",
    "    comments_by_hour = dict()\n",
    "    date_format = '%m/%d/%Y %H:%M' # date taken from dataset will be the format ex: 9/26/2016 3:26\n",
    "    \n",
    "    for row in result_list:\n",
    "        # create a datetime object\n",
    "        date = dt.datetime.strptime(row[0], date_format)\n",
    "        comments = row[1]\n",
    "        # get hour from datetime object\n",
    "        hour = date.strftime('%H')\n",
    "        \n",
    "        # number of posts created in that hour\n",
    "        counts_by_hour[hour] = counts_by_hour.get(hour, 0) + 1\n",
    "        # number of comments each posts receive\n",
    "        comments_by_hour[hour] = comments_by_hour.get(hour, 0) + comments\n",
    "    \n",
    "    return comments_by_hour, counts_by_hour"
   ]
  },
  {
   "cell_type": "code",
   "execution_count": 9,
   "metadata": {
    "scrolled": true
   },
   "outputs": [],
   "source": [
    "comments_by_hour, counts_by_hour = get_comments_by_hour(ask_posts, 6, 4) # index 4: total number of comments, index 6: timestamp at which post was created"
   ]
  },
  {
   "cell_type": "markdown",
   "metadata": {},
   "source": [
    "#### Calculating the average number of comments for *Ask HN* posts by hour:"
   ]
  },
  {
   "cell_type": "code",
   "execution_count": 10,
   "metadata": {},
   "outputs": [],
   "source": [
    "def average_comments_per_hour(comments_by_hour, counts_by_hour):\n",
    "    average_by_hour = dict()\n",
    "    \n",
    "    for hour, comments in comments_by_hour.items():\n",
    "        average_by_hour[hour] = comments/counts_by_hour[hour]\n",
    "    \n",
    "    # sort in descending order by number of comments\n",
    "    sorted_avg_by_hour = sorted(average_by_hour.items(), key=lambda x: x[1], reverse=True)\n",
    "    \n",
    "    return sorted_avg_by_hour"
   ]
  },
  {
   "cell_type": "code",
   "execution_count": 11,
   "metadata": {
    "scrolled": false
   },
   "outputs": [
    {
     "name": "stdout",
     "output_type": "stream",
     "text": [
      "[('15', 28.676470588235293),\n",
      " ('13', 16.31756756756757),\n",
      " ('12', 12.380116959064328),\n",
      " ('02', 11.137546468401487),\n",
      " ('10', 10.684397163120567),\n",
      " ('04', 9.7119341563786),\n",
      " ('14', 9.692007797270955),\n",
      " ('17', 9.449744463373083),\n",
      " ('08', 9.190661478599221),\n",
      " ('11', 8.96474358974359),\n",
      " ('22', 8.804177545691905),\n",
      " ('05', 8.794258373205741),\n",
      " ('20', 8.749019607843136),\n",
      " ('21', 8.687258687258687),\n",
      " ('03', 7.948339483394834),\n",
      " ('18', 7.94299674267101),\n",
      " ('16', 7.713298791018998),\n",
      " ('00', 7.5647840531561465),\n",
      " ('01', 7.407801418439717),\n",
      " ('19', 7.163043478260869),\n",
      " ('07', 7.013274336283186),\n",
      " ('06', 6.782051282051282),\n",
      " ('23', 6.696793002915452),\n",
      " ('09', 6.653153153153153)]\n"
     ]
    }
   ],
   "source": [
    "avg_comments_per_hour = average_comments_per_hour(comments_by_hour, counts_by_hour)\n",
    "pp.pprint(avg_comments_per_hour)"
   ]
  },
  {
   "cell_type": "code",
   "execution_count": 12,
   "metadata": {},
   "outputs": [
    {
     "name": "stdout",
     "output_type": "stream",
     "text": [
      "Top 5 hours for Ask HN comments:\n",
      "Hr 15:00 - Average 28.68 comments per post\n",
      "Hr 13:00 - Average 16.32 comments per post\n",
      "Hr 12:00 - Average 12.38 comments per post\n",
      "Hr 02:00 - Average 11.14 comments per post\n",
      "Hr 10:00 - Average 10.68 comments per post\n"
     ]
    }
   ],
   "source": [
    "print('Top 5 hours for Ask HN comments:')\n",
    "for hour, avg in avg_comments_per_hour[:5]:\n",
    "    print('Hr {} - Average {:.2f} comments per post'.format(dt.datetime.strptime(hour, '%H').strftime('%H:%M'), avg))"
   ]
  },
  {
   "cell_type": "markdown",
   "metadata": {},
   "source": [
    "The hour that receives the most comments per post on average is 15:00 with an average of 28.68 comments per post. There is about a 75% increase in the number of comments between the hours with highest and second highest average number of comments.  \n",
    "  \n",
    "According to the dataset [documentation](https://www.kaggle.com/hacker-news/hacker-news-posts), the timezone used is Eastern Time in the US. So, we ccould also write 15:00 as 3:00 PM EST.  \n",
    "  \n",
    "### Conclusion:\n",
    "In this project, we analyzed *Ask* posts and *Show* posts to determine which type of posts and time receive the most comments on average. Based on our analysis, to maximize the amount of comments, we would recommend the post to be categorized as *Ask* post and created between 15:00 and 16:00 (3:00 PM to 4:00 PM EST)."
   ]
  }
 ],
 "metadata": {
  "kernelspec": {
   "display_name": "Python 3",
   "language": "python",
   "name": "python3"
  },
  "language_info": {
   "codemirror_mode": {
    "name": "ipython",
    "version": 3
   },
   "file_extension": ".py",
   "mimetype": "text/x-python",
   "name": "python",
   "nbconvert_exporter": "python",
   "pygments_lexer": "ipython3",
   "version": "3.7.4"
  },
  "toc": {
   "base_numbering": 1,
   "nav_menu": {},
   "number_sections": true,
   "sideBar": true,
   "skip_h1_title": false,
   "title_cell": "Table of Contents",
   "title_sidebar": "Contents",
   "toc_cell": false,
   "toc_position": {},
   "toc_section_display": true,
   "toc_window_display": false
  },
  "varInspector": {
   "cols": {
    "lenName": 16,
    "lenType": 16,
    "lenVar": 40
   },
   "kernels_config": {
    "python": {
     "delete_cmd_postfix": "",
     "delete_cmd_prefix": "del ",
     "library": "var_list.py",
     "varRefreshCmd": "print(var_dic_list())"
    },
    "r": {
     "delete_cmd_postfix": ") ",
     "delete_cmd_prefix": "rm(",
     "library": "var_list.r",
     "varRefreshCmd": "cat(var_dic_list()) "
    }
   },
   "types_to_exclude": [
    "module",
    "function",
    "builtin_function_or_method",
    "instance",
    "_Feature"
   ],
   "window_display": false
  }
 },
 "nbformat": 4,
 "nbformat_minor": 2
}
